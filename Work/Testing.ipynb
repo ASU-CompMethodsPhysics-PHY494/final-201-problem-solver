{
 "cells": [
  {
   "cell_type": "code",
   "execution_count": null,
   "metadata": {
    "collapsed": false
   },
   "outputs": [],
   "source": [
    "%pdb"
   ]
  },
  {
   "cell_type": "code",
   "execution_count": 1,
   "metadata": {
    "collapsed": false
   },
   "outputs": [],
   "source": [
    "import numpy as np\n",
    "import billiard_objects\n",
    "import billiards\n",
    "import collisions\n",
    "import plotting\n",
    "import test_collisions\n",
    "import matplotlib.pyplot as plt\n",
    "import importlib as imp\n",
    "imp.reload(billiard_objects)\n",
    "imp.reload(billiards)\n",
    "imp.reload(collisions)\n",
    "imp.reload(plotting)\n",
    "imp.reload(test_collisions)\n",
    "%matplotlib inline"
   ]
  },
  {
   "cell_type": "code",
   "execution_count": 4,
   "metadata": {
    "collapsed": false
   },
   "outputs": [
    {
     "name": "stdout",
     "output_type": "stream",
     "text": [
      "Simulation ended after 109.88 seconds with 5494 steps. 0 balls remain on the table.\n"
     ]
    }
   ],
   "source": [
    "ball_mass = 0.165\n",
    "ball_radius = 5\n",
    "hole_radius = 20\n",
    "table_xdims = 100\n",
    "table_ydims = 200\n",
    "\n",
    "break_speed = 130\n",
    "theta = 30\n",
    "dt = .02\n",
    "sim_time_max = 1000\n",
    "plot_interval = .14\n",
    "\n",
    "table, starting_balls = billiard_objects.create_objects(ball_mass, ball_radius, hole_radius, table_xdims, table_ydims)\n",
    "\n",
    "positions_plot = billiards.single_simulation(table, starting_balls, break_speed, theta, dt, sim_time_max, plot_interval)"
   ]
  },
  {
   "cell_type": "code",
   "execution_count": 6,
   "metadata": {
    "collapsed": false
   },
   "outputs": [],
   "source": [
    "plotting.save_all_plot_frames(table, positions_plot, directory='animation/30° frames')"
   ]
  },
  {
   "cell_type": "code",
   "execution_count": null,
   "metadata": {
    "collapsed": true
   },
   "outputs": [],
   "source": []
  }
 ],
 "metadata": {
  "kernelspec": {
   "display_name": "Python 3",
   "language": "python",
   "name": "python3"
  },
  "language_info": {
   "codemirror_mode": {
    "name": "ipython",
    "version": 3
   },
   "file_extension": ".py",
   "mimetype": "text/x-python",
   "name": "python",
   "nbconvert_exporter": "python",
   "pygments_lexer": "ipython3",
   "version": "3.5.1"
  }
 },
 "nbformat": 4,
 "nbformat_minor": 0
}
