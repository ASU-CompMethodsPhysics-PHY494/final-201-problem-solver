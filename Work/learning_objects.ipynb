{
 "cells": [
  {
   "cell_type": "code",
   "execution_count": 79,
   "metadata": {
    "collapsed": true
   },
   "outputs": [],
   "source": [
    "class Person(object): #class is like def, Person is like the function, object is the type of class \n",
    "        def __init__ (self,name, age, gender):\n",
    "            self.name = name #this says that the objects name is equal to the name we input\n",
    "            self.age = age #same basics as name\n",
    "            gender = gender.lower()\n",
    "            if (gender == \"male\") or (gender == \"female\"):\n",
    "                self.gender = gender\n",
    "            else:\n",
    "                raise ValueError(\"Thats not a valid gender\")\n",
    "        def get_gender(self):\n",
    "            return self.gender\n",
    "        def get_age(self):\n",
    "            return self.age\n",
    "        def get_name(self):\n",
    "            return self.name"
   ]
  },
  {
   "cell_type": "code",
   "execution_count": 80,
   "metadata": {
    "collapsed": false
   },
   "outputs": [
    {
     "data": {
      "text/plain": [
       "'male'"
      ]
     },
     "execution_count": 80,
     "metadata": {},
     "output_type": "execute_result"
    }
   ],
   "source": [
    "Nik = Person(\"Nik Obrien\", 22, \"MaLe\")\n",
    "Nik.gender"
   ]
  },
  {
   "cell_type": "code",
   "execution_count": 147,
   "metadata": {
    "collapsed": false
   },
   "outputs": [],
   "source": [
    "class Family(object):\n",
    "    def __init__(self):\n",
    "        self.members = []\n",
    "    def add_member(self, addition):\n",
    "        self.members.append(addition)\n",
    "    def get_members(self):\n",
    "        return self.members\n",
    "    def create_new_member(self, P1, P2, name, gender):\n",
    "        P1_g = P1.get_gender()\n",
    "        P2_g = P2.get_gender()\n",
    "        if not P1_g == P2_g:\n",
    "            self.add_member(Person(name, 0, gender))\n",
    "        else:\n",
    "            raise ValueError(\"That doesn't work\")\n",
    "    def check_mortality(self, age=50):\n",
    "        for i,m in enumerate(self.members):\n",
    "            if m.get_age() >= age:\n",
    "                print(\"\\'{}\\' has died.\".format(m.get_name()))\n",
    "                self.members.remove(m)\n",
    "    def __len__ (self):\n",
    "        return len(self.members)"
   ]
  },
  {
   "cell_type": "code",
   "execution_count": 148,
   "metadata": {
    "collapsed": true
   },
   "outputs": [],
   "source": [
    "Fam = Family()"
   ]
  },
  {
   "cell_type": "code",
   "execution_count": 149,
   "metadata": {
    "collapsed": false
   },
   "outputs": [
    {
     "data": {
      "text/plain": [
       "[]"
      ]
     },
     "execution_count": 149,
     "metadata": {},
     "output_type": "execute_result"
    }
   ],
   "source": [
    "Fam.get_members()"
   ]
  },
  {
   "cell_type": "code",
   "execution_count": 150,
   "metadata": {
    "collapsed": false
   },
   "outputs": [],
   "source": [
    "Fam.add_member(Nik)"
   ]
  },
  {
   "cell_type": "code",
   "execution_count": 151,
   "metadata": {
    "collapsed": false
   },
   "outputs": [],
   "source": [
    "Fam = Family()\n",
    "Fam.add_member(Person(\"Mom\", 50, \"female\"))\n",
    "Fam.add_member(Person(\"Alexa\", 30, \"female\"))\n",
    "Fam.add_member(Person(\"Lyndsi\", 26, \"female\"))\n",
    "Fam.add_member(Nik)\n",
    "Fam.add_member(Person(\"Tom\", 50, \"male\"))"
   ]
  },
  {
   "cell_type": "code",
   "execution_count": 152,
   "metadata": {
    "collapsed": false
   },
   "outputs": [
    {
     "data": {
      "text/plain": [
       "[<__main__.Person at 0x82bde0bdd8>,\n",
       " <__main__.Person at 0x82bde0bc88>,\n",
       " <__main__.Person at 0x82bde0b940>,\n",
       " <__main__.Person at 0x82bddb9898>,\n",
       " <__main__.Person at 0x82bde0b0f0>]"
      ]
     },
     "execution_count": 152,
     "metadata": {},
     "output_type": "execute_result"
    }
   ],
   "source": [
    "Fam.get_members()"
   ]
  },
  {
   "cell_type": "code",
   "execution_count": 153,
   "metadata": {
    "collapsed": true
   },
   "outputs": [],
   "source": [
    "male = Fam.get_members()[4]\n",
    "female = Fam.get_members()[0]"
   ]
  },
  {
   "cell_type": "code",
   "execution_count": 154,
   "metadata": {
    "collapsed": false
   },
   "outputs": [],
   "source": [
    "Fam.create_new_member(male,female,\"Mike\",\"male\")"
   ]
  },
  {
   "cell_type": "code",
   "execution_count": 155,
   "metadata": {
    "collapsed": false
   },
   "outputs": [
    {
     "data": {
      "text/plain": [
       "'Mike'"
      ]
     },
     "execution_count": 155,
     "metadata": {},
     "output_type": "execute_result"
    }
   ],
   "source": [
    "Fam.get_members()[-1].name"
   ]
  },
  {
   "cell_type": "code",
   "execution_count": 156,
   "metadata": {
    "collapsed": false
   },
   "outputs": [
    {
     "data": {
      "text/plain": [
       "6"
      ]
     },
     "execution_count": 156,
     "metadata": {},
     "output_type": "execute_result"
    }
   ],
   "source": [
    "len(Fam)"
   ]
  },
  {
   "cell_type": "code",
   "execution_count": 157,
   "metadata": {
    "collapsed": false
   },
   "outputs": [
    {
     "name": "stdout",
     "output_type": "stream",
     "text": [
      "'Mom' has died.\n",
      "'Tom' has died.\n"
     ]
    }
   ],
   "source": [
    "Fam.check_mortality()"
   ]
  },
  {
   "cell_type": "code",
   "execution_count": 158,
   "metadata": {
    "collapsed": false
   },
   "outputs": [
    {
     "data": {
      "text/plain": [
       "4"
      ]
     },
     "execution_count": 158,
     "metadata": {},
     "output_type": "execute_result"
    }
   ],
   "source": [
    "len(Fam)"
   ]
  },
  {
   "cell_type": "code",
   "execution_count": null,
   "metadata": {
    "collapsed": true
   },
   "outputs": [],
   "source": []
  }
 ],
 "metadata": {
  "kernelspec": {
   "display_name": "Python 3",
   "language": "python",
   "name": "python3"
  },
  "language_info": {
   "codemirror_mode": {
    "name": "ipython",
    "version": 3
   },
   "file_extension": ".py",
   "mimetype": "text/x-python",
   "name": "python",
   "nbconvert_exporter": "python",
   "pygments_lexer": "ipython3",
   "version": "3.5.1"
  }
 },
 "nbformat": 4,
 "nbformat_minor": 0
}
